{
 "cells": [
  {
   "cell_type": "code",
   "execution_count": 1,
   "metadata": {},
   "outputs": [],
   "source": [
    "import pandas as pd\n",
    "import numpy\n",
    "FlowerData = pd.read_csv(\"Iris.csv\")\n",
    "#FlowerData"
   ]
  },
  {
   "cell_type": "code",
   "execution_count": 2,
   "metadata": {},
   "outputs": [],
   "source": [
    "import numpy as np\n",
    "from sklearn.model_selection import train_test_split\n",
    "X= FlowerData.iloc[:,0:5]\n",
    "Y=FlowerData.iloc[:,5:6]\n",
    "#X.head()\n",
    "#Y.head()"
   ]
  },
  {
   "cell_type": "code",
   "execution_count": 4,
   "metadata": {},
   "outputs": [],
   "source": [
    "XTrain,XTest,YTrain,YTest= train_test_split(X,Y,test_size=0.25,random_state=0)\n",
    "XX=XTrain.to_numpy(copy=True).tolist()\n",
    "YY=(((YTrain.transpose()).to_numpy(copy=True)).tolist())[0]\n",
    "XC=XTest.to_numpy(copy=True).tolist()\n",
    "YC=(((YTest.transpose()).to_numpy(copy=True)).tolist())[0]\n",
    "\n",
    "from sklearn import metrics"
   ]
  },
  {
   "cell_type": "code",
   "execution_count": 5,
   "metadata": {},
   "outputs": [
    {
     "name": "stdout",
     "output_type": "stream",
     "text": [
      "100.0 percent accuracy\n"
     ]
    }
   ],
   "source": [
    "#Using SVM\n",
    "from sklearn import svm\n",
    "cf= svm.SVC(gamma='auto')\n",
    "cf.fit(XX,YY)\n",
    "match=cf.predict(XC)\n",
    "accuracy=(metrics.accuracy_score(YC,match))*100\n",
    "print(accuracy,end =' ')\n",
    "print('percent accuracy')"
   ]
  },
  {
   "cell_type": "code",
   "execution_count": 6,
   "metadata": {},
   "outputs": [
    {
     "name": "stdout",
     "output_type": "stream",
     "text": [
      "97.36842105263158 percent accuracy\n"
     ]
    }
   ],
   "source": [
    "#Using Decision Tree\n",
    "from sklearn import tree\n",
    "cf2=tree.DecisionTreeClassifier()\n",
    "cf2.fit(XX,YY)\n",
    "match2=cf2.predict(XC)\n",
    "accuracy2=(metrics.accuracy_score(YC,match2))*100\n",
    "print(accuracy2,end =' ')\n",
    "print('percent accuracy')"
   ]
  },
  {
   "cell_type": "code",
   "execution_count": 7,
   "metadata": {},
   "outputs": [
    {
     "name": "stdout",
     "output_type": "stream",
     "text": [
      "100.0 percent accuracy\n"
     ]
    }
   ],
   "source": [
    "#Using KNearestNeighbour\n",
    "from sklearn import neighbors\n",
    "cf3= neighbors.KNeighborsClassifier()\n",
    "cf3.fit(XX,YY)\n",
    "match3=cf3.predict(XC)\n",
    "accuracy3=(metrics.accuracy_score(YC,match3))*100\n",
    "print(accuracy3,end =' ')\n",
    "print('percent accuracy')"
   ]
  }
 ],
 "metadata": {
  "kernelspec": {
   "display_name": "Python 3",
   "language": "python",
   "name": "python3"
  },
  "language_info": {
   "codemirror_mode": {
    "name": "ipython",
    "version": 3
   },
   "file_extension": ".py",
   "mimetype": "text/x-python",
   "name": "python",
   "nbconvert_exporter": "python",
   "pygments_lexer": "ipython3",
   "version": "3.7.4"
  }
 },
 "nbformat": 4,
 "nbformat_minor": 2
}
